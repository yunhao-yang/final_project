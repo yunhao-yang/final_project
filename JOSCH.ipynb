{
 "cells": [
  {
   "cell_type": "code",
   "execution_count": 7,
   "metadata": {},
   "outputs": [],
   "source": []
  },
  {
   "cell_type": "code",
   "execution_count": 27,
   "metadata": {},
   "outputs": [
    {
     "name": "stdout",
     "output_type": "stream",
     "text": [
      "The autoreload extension is already loaded. To reload it, use:\n",
      "  %reload_ext autoreload\n"
     ]
    }
   ],
   "source": [
    "%load_ext autoreload\n",
    "%autoreload 2\n",
    "import db_tables"
   ]
  },
  {
   "cell_type": "code",
   "execution_count": null,
   "metadata": {},
   "outputs": [],
   "source": []
  },
  {
   "cell_type": "code",
   "execution_count": 2,
   "metadata": {},
   "outputs": [],
   "source": [
    "from data_loader import CSV_DataLoader\n",
    "from data_parser import DataParser\n",
    "from scheduler import Scheduler\n",
    "from graph_visualizer import Visualizer\n",
    "#loader = CSV_DataLoader()\n",
    "date = '2019-04-04'\n",
    "data_parser = DataParser(CSV_DataLoader, date)\n",
    "scheduler = Scheduler(data_parser)\n",
    "scheduler.schedule()"
   ]
  },
  {
   "cell_type": "code",
   "execution_count": 18,
   "metadata": {},
   "outputs": [],
   "source": [
    "import tkinter as tk \n",
    "from tkinter import *\n",
    "import datetime\n",
    "win = Tk() \n",
    "\n",
    "#to specify size of window. \n",
    "win.geometry(\"250x170\") \n",
    "\n",
    "# To Create a text widget and specify size. \n",
    "#T = Text(win, height = 6, width = 53) \n",
    "r = scheduler._sch_nodes_table.iloc[4]\n",
    "# TO Create label \n",
    "\n",
    "dt = datetime.datetime.strftime(datetime.datetime.now(), '%Y-%m-%d %H:%M:%S')\n",
    "date = r.loc['date']\n",
    "node_id = r.loc['node_id']\n",
    "job_name = r.loc['job_name']\n",
    "node_name = r.loc['node_name']\n",
    "state = r.loc['state']\n",
    "node_type = r.loc['node_type']\n",
    "#state = 'failed'\n",
    "if state == 'failed':\n",
    "    color = 'red'\n",
    "else:\n",
    "    color = 'black'\n",
    "    \n",
    "message = '\\n{} {}\\n'.format(node_id, node_name)\n",
    "message += 'State: {}\\n\\n'.format(state)\n",
    "message += '{} {}\\n'.format(date, job_name)\n",
    "message += '{}\\n'.format(dt)\n",
    "l = Label(win, text = message, fg=color) \n",
    "\n",
    "l.config(font =(\"Courier\", 14)) \n",
    "l.pack() \n",
    "\n",
    "# Create a button for the next text. \n",
    "if node_type == 'S':\n",
    "    b1 = Button(win, text = \"Signoff\", ) \n",
    "    b1.pack()\n",
    "else:\n",
    "    b1 = Button(win, text = \"Mark Success\", ) \n",
    "    b2 = Button(win, text = \"Retry\", \n",
    "                command = win.destroy) \n",
    "\n",
    "    b1.pack() \n",
    "    b2.pack() \n",
    "\n",
    "# Insert the Quote \n",
    "#T.insert(tk.END, Quote) \n",
    "\n",
    "tk.mainloop()\n"
   ]
  },
  {
   "cell_type": "code",
   "execution_count": 1,
   "metadata": {},
   "outputs": [
    {
     "ename": "NameError",
     "evalue": "name 'r' is not defined",
     "output_type": "error",
     "traceback": [
      "\u001b[0;31m---------------------------------------------------------------------------\u001b[0m",
      "\u001b[0;31mNameError\u001b[0m                                 Traceback (most recent call last)",
      "\u001b[0;32m<ipython-input-1-d17ca1acc36c>\u001b[0m in \u001b[0;36m<module>\u001b[0;34m\u001b[0m\n\u001b[0;32m----> 1\u001b[0;31m \u001b[0mr\u001b[0m\u001b[0;34m\u001b[0m\u001b[0;34m\u001b[0m\u001b[0m\n\u001b[0m",
      "\u001b[0;31mNameError\u001b[0m: name 'r' is not defined"
     ]
    }
   ],
   "source": [
    "r"
   ]
  },
  {
   "cell_type": "code",
   "execution_count": 4,
   "metadata": {},
   "outputs": [
    {
     "data": {
      "text/plain": [
       "<Figure size 432x288 with 0 Axes>"
      ]
     },
     "metadata": {},
     "output_type": "display_data"
    },
    {
     "data": {
      "text/plain": [
       "<Figure size 432x288 with 0 Axes>"
      ]
     },
     "metadata": {},
     "output_type": "display_data"
    },
    {
     "data": {
      "text/plain": [
       "<Figure size 432x288 with 0 Axes>"
      ]
     },
     "metadata": {},
     "output_type": "display_data"
    }
   ],
   "source": [
    "import matplotlib.pyplot as plt\n",
    "tpl_jobs = data_parser.get_tpl_jobs()\n",
    "for tpl_job in tpl_jobs:\n",
    "    plt.figure()\n",
    "    Visualizer(tpl_job).visualize()\n"
   ]
  },
  {
   "cell_type": "code",
   "execution_count": null,
   "metadata": {},
   "outputs": [],
   "source": []
  },
  {
   "cell_type": "code",
   "execution_count": 5,
   "metadata": {},
   "outputs": [],
   "source": [
    "def dfs(node, level):\n",
    "    if node in visited_nodes:\n",
    "        for i, l in enumerate(dfs_nodes):\n",
    "            if l[0] == node:\n",
    "                if l[1] < level:\n",
    "                    dfs_nodes[i] = (node, level)\n",
    "                break\n",
    "        return\n",
    "    visited_nodes.add(node)\n",
    "    children = child_edges.get(node, [])\n",
    "    for child in children:\n",
    "        dfs(child, level+1)\n",
    "    dfs_nodes.append((node, level))"
   ]
  },
  {
   "cell_type": "code",
   "execution_count": 2,
   "metadata": {},
   "outputs": [],
   "source": []
  }
 ],
 "metadata": {
  "kernelspec": {
   "display_name": "Python 3",
   "language": "python",
   "name": "python3"
  },
  "language_info": {
   "codemirror_mode": {
    "name": "ipython",
    "version": 3
   },
   "file_extension": ".py",
   "mimetype": "text/x-python",
   "name": "python",
   "nbconvert_exporter": "python",
   "pygments_lexer": "ipython3",
   "version": "3.8.5"
  }
 },
 "nbformat": 4,
 "nbformat_minor": 4
}
